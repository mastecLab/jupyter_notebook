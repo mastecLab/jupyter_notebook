{
 "cells": [
  {
   "cell_type": "code",
   "execution_count": 1,
   "id": "9d63c5c6",
   "metadata": {},
   "outputs": [
    {
     "name": "stdout",
     "output_type": "stream",
     "text": [
      "Programa para descargar videos en wisty\n"
     ]
    }
   ],
   "source": [
    "print(\"Programa para descargar videos en wisty\")"
   ]
  },
  {
   "cell_type": "code",
   "execution_count": 3,
   "id": "c7911189",
   "metadata": {},
   "outputs": [
    {
     "name": "stdout",
     "output_type": "stream",
     "text": [
      "1. Instalar el programa Wisty\n",
      "2. Descargar un video\n",
      "Introduce el número de la opción que deseas ejecutar: 2\n",
      "Introduce el ID del video: kge00pgwxm\n",
      "Introduce el nombre del video: CRX Training Video 4 - Programming\n"
     ]
    },
    {
     "name": "stderr",
     "output_type": "stream",
     "text": [
      "\r",
      "  0%|          | 0/100 [00:00<?, ?it/s]"
     ]
    },
    {
     "name": "stdout",
     "output_type": "stream",
     "text": [
      "Ejecutando: wisty -i kge00pgwxm -r 1080p -n \"CRX Training Video 4 - Programming\"\n"
     ]
    },
    {
     "name": "stderr",
     "output_type": "stream",
     "text": [
      "100%|██████████| 100/100 [00:54<00:00,  1.84it/s]"
     ]
    },
    {
     "name": "stdout",
     "output_type": "stream",
     "text": [
      "Descarga completada con éxito.\n"
     ]
    },
    {
     "name": "stderr",
     "output_type": "stream",
     "text": [
      "\n"
     ]
    }
   ],
   "source": [
    "import os\n",
    "from tqdm import tqdm\n",
    "\n",
    "# Muestra las opciones disponibles al usuario\n",
    "print(\"1. Instalar el programa Wisty\")\n",
    "print(\"2. Descargar un video\")\n",
    "\n",
    "# Solicita la entrada del usuario\n",
    "opcion = input('Introduce el número de la opción que deseas ejecutar: ')\n",
    "\n",
    "if opcion == \"1\":\n",
    "    print(\"Instalando Wisty...\")\n",
    "    # Utiliza try-except para manejar errores en la instalación\n",
    "    try:\n",
    "        os.system('pip install wisty')  # Supongo que el paquete correcto es \"wisty\", no \"pyp\"\n",
    "        print(\"Wisty se ha instalado correctamente.\")\n",
    "    except Exception as e:\n",
    "        print(f\"Error al instalar Wisty: {e}\")\n",
    "\n",
    "elif opcion == \"2\":\n",
    "    video_id = input(\"Introduce el ID del video: \")\n",
    "    nombre = input(\"Introduce el nombre del video: \")\n",
    "\n",
    "    # Construye el comando para descargar el video\n",
    "    comando = f'wisty -i {video_id} -r 1080p -n \"{nombre}\"'\n",
    "    print(f\"Ejecutando: {comando}\")\n",
    "\n",
    "    # Utiliza try-except para manejar errores en la descarga\n",
    "    try:\n",
    "        # Utiliza tqdm para mostrar una barra de progreso\n",
    "        with tqdm(total=100) as pbar:\n",
    "            os.system(comando)\n",
    "            pbar.update(100)\n",
    "        print(\"Descarga completada con éxito.\")\n",
    "    except Exception as e:\n",
    "        print(f\"Error al descargar el video: {e}\")\n",
    "\n",
    "else:\n",
    "    print(\"Por favor, elige una opción válida.\")\n"
   ]
  },
  {
   "cell_type": "code",
   "execution_count": null,
   "id": "06122cc1",
   "metadata": {},
   "outputs": [],
   "source": []
  },
  {
   "cell_type": "code",
   "execution_count": null,
   "id": "6ee58db0",
   "metadata": {},
   "outputs": [],
   "source": []
  }
 ],
 "metadata": {
  "kernelspec": {
   "display_name": "Python 3 (ipykernel)",
   "language": "python",
   "name": "python3"
  },
  "language_info": {
   "codemirror_mode": {
    "name": "ipython",
    "version": 3
   },
   "file_extension": ".py",
   "mimetype": "text/x-python",
   "name": "python",
   "nbconvert_exporter": "python",
   "pygments_lexer": "ipython3",
   "version": "3.9.7"
  }
 },
 "nbformat": 4,
 "nbformat_minor": 5
}
